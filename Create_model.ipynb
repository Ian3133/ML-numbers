{
 "cells": [
  {
   "cell_type": "code",
   "execution_count": 4,
   "metadata": {},
   "outputs": [
    {
     "name": "stderr",
     "output_type": "stream",
     "text": [
      "Found cached dataset mnist (C:/Users/HP/.cache/huggingface/datasets/mnist/mnist/1.0.0/9d494b7f466d6931c64fb39d58bb1249a4d85c9eb9865d9bc20960b999e2a332)\n"
     ]
    },
    {
     "data": {
      "application/vnd.jupyter.widget-view+json": {
       "model_id": "146587cb910e4cd08d9c12a0e7f81f25",
       "version_major": 2,
       "version_minor": 0
      },
      "text/plain": [
       "  0%|          | 0/2 [00:00<?, ?it/s]"
      ]
     },
     "metadata": {},
     "output_type": "display_data"
    }
   ],
   "source": [
    "import numpy as np\n",
    "import pandas as pd\n",
    "import tensorflow as tf\n",
    "from sklearn.metrics import accuracy_score\n",
    "\n",
    "from datasets import load_dataset\n",
    "import matplotlib.pyplot as plt\n",
    "\n",
    "dataset = load_dataset(\"mnist\")\n",
    "train_data = dataset[\"train\"]\n",
    "test_data = dataset[\"test\"]\n"
   ]
  },
  {
   "cell_type": "markdown",
   "metadata": {},
   "source": [
    "The next few blocks are more me playing around and figuring out tensorflow without changeing the image inputs"
   ]
  },
  {
   "cell_type": "code",
   "execution_count": 5,
   "metadata": {},
   "outputs": [],
   "source": [
    "# this lets you see some of the input images\n",
    "num_samples = 0        \n",
    "for i in range(num_samples):\n",
    "    image = train_data[i][\"image\"]\n",
    "    label = train_data[i][\"label\"]\n",
    "    \n",
    "    plt.imshow(image, cmap=\"gray\")\n",
    "    plt.title(f\"Label: {label}\")\n",
    "    plt.show()"
   ]
  },
  {
   "cell_type": "code",
   "execution_count": 6,
   "metadata": {},
   "outputs": [
    {
     "name": "stdout",
     "output_type": "stream",
     "text": [
      "Input data shape: (60000, 28, 28, 1)\n"
     ]
    }
   ],
   "source": [
    "# only processing traing data need to do to rest when testing\n",
    "input_data = np.zeros((len(train_data), 28, 28, 1))\n",
    "what_num = np.array([-1]*len(train_data))\n",
    "\n",
    "for i in range(len(train_data)):\n",
    "    image = train_data[i][\"image\"]\n",
    "    what_num[i] = train_data[i][\"label\"]\n",
    "    input_data[i] = np.expand_dims(image, axis=-1) / 255.0  \n",
    "\n",
    "input_data = input_data.reshape(-1, 28, 28, 1)\n",
    "print(\"Input data shape:\", input_data.shape)"
   ]
  },
  {
   "cell_type": "code",
   "execution_count": 7,
   "metadata": {},
   "outputs": [],
   "source": [
    "#creates the model\n",
    "model = tf.keras.models.Sequential()\n",
    "#from tf.keras.layers import Dense\n",
    "\n",
    "model.add(tf.keras.layers.Flatten(input_shape=(28, 28, 1)))   # what about the -1 in the beginin? want to check how differs from input_data shape\n",
    "model.add(tf.keras.layers.Dense(units=128, activation='relu'))\n",
    "model.add(tf.keras.layers.Dense(units=10, activation='softmax')) # should play aroud more with the activation functions\n",
    "\n",
    "model.compile(loss='sparse_categorical_crossentropy', optimizer='sgd', metrics=['accuracy'])\n",
    "\n"
   ]
  },
  {
   "cell_type": "code",
   "execution_count": 8,
   "metadata": {},
   "outputs": [
    {
     "name": "stdout",
     "output_type": "stream",
     "text": [
      "Updated input data shape: (60000, 28, 28, 1)\n",
      "Updated target labels shape: (60000,)\n"
     ]
    }
   ],
   "source": [
    "invalid_labels = np.logical_or(what_num < 0, what_num >= 10)\n",
    "# Remove invalid label values\n",
    "input_data = input_data[~invalid_labels]\n",
    "what_num = what_num[~invalid_labels]\n",
    "\n",
    "# Verify the updated shapes\n",
    "print(\"Updated input data shape:\", input_data.shape)\n",
    "print(\"Updated target labels shape:\", what_num.shape)"
   ]
  },
  {
   "cell_type": "code",
   "execution_count": 9,
   "metadata": {},
   "outputs": [
    {
     "name": "stdout",
     "output_type": "stream",
     "text": [
      "Epoch 1/20\n",
      "1875/1875 [==============================] - 5s 2ms/step - loss: 0.6534 - accuracy: 0.8364\n",
      "Epoch 2/20\n",
      "1875/1875 [==============================] - 4s 2ms/step - loss: 0.3332 - accuracy: 0.9077\n",
      "Epoch 3/20\n",
      "1875/1875 [==============================] - 4s 2ms/step - loss: 0.2836 - accuracy: 0.9205\n",
      "Epoch 4/20\n",
      "1875/1875 [==============================] - 4s 2ms/step - loss: 0.2531 - accuracy: 0.9293\n",
      "Epoch 5/20\n",
      "1875/1875 [==============================] - 4s 2ms/step - loss: 0.2306 - accuracy: 0.9359\n",
      "Epoch 6/20\n",
      "1875/1875 [==============================] - 4s 2ms/step - loss: 0.2119 - accuracy: 0.9412\n",
      "Epoch 7/20\n",
      "1875/1875 [==============================] - 4s 2ms/step - loss: 0.1965 - accuracy: 0.9456\n",
      "Epoch 8/20\n",
      "1875/1875 [==============================] - 4s 2ms/step - loss: 0.1832 - accuracy: 0.9492\n",
      "Epoch 9/20\n",
      "1875/1875 [==============================] - 4s 2ms/step - loss: 0.1717 - accuracy: 0.9517\n",
      "Epoch 10/20\n",
      "1875/1875 [==============================] - 4s 2ms/step - loss: 0.1619 - accuracy: 0.9542\n",
      "Epoch 11/20\n",
      "1875/1875 [==============================] - 4s 2ms/step - loss: 0.1528 - accuracy: 0.9571\n",
      "Epoch 12/20\n",
      "1875/1875 [==============================] - 4s 2ms/step - loss: 0.1446 - accuracy: 0.9592\n",
      "Epoch 13/20\n",
      "1875/1875 [==============================] - 4s 2ms/step - loss: 0.1378 - accuracy: 0.9611\n",
      "Epoch 14/20\n",
      "1875/1875 [==============================] - 4s 2ms/step - loss: 0.1313 - accuracy: 0.9632\n",
      "Epoch 15/20\n",
      "1875/1875 [==============================] - 4s 2ms/step - loss: 0.1255 - accuracy: 0.9650\n",
      "Epoch 16/20\n",
      "1875/1875 [==============================] - 4s 2ms/step - loss: 0.1202 - accuracy: 0.9666\n",
      "Epoch 17/20\n",
      "1875/1875 [==============================] - 4s 2ms/step - loss: 0.1151 - accuracy: 0.9674\n",
      "Epoch 18/20\n",
      "1875/1875 [==============================] - 4s 2ms/step - loss: 0.1107 - accuracy: 0.9692\n",
      "Epoch 19/20\n",
      "1875/1875 [==============================] - 5s 2ms/step - loss: 0.1065 - accuracy: 0.9699\n",
      "Epoch 20/20\n",
      "1875/1875 [==============================] - 5s 3ms/step - loss: 0.1027 - accuracy: 0.9711\n"
     ]
    },
    {
     "data": {
      "text/plain": [
       "<keras.src.callbacks.History at 0x199b35dd190>"
      ]
     },
     "execution_count": 9,
     "metadata": {},
     "output_type": "execute_result"
    }
   ],
   "source": [
    "model.fit(input_data, what_num, epochs=20, batch_size=32)"
   ]
  },
  {
   "cell_type": "code",
   "execution_count": 10,
   "metadata": {},
   "outputs": [],
   "source": [
    "#formating the test data\n",
    "input_data_test = np.zeros((len(test_data), 28, 28, 1))\n",
    "what_num_test = np.array([-1] * len(test_data))\n",
    "\n",
    "for i in range(len(test_data)):\n",
    "    image = test_data[i][\"image\"]\n",
    "    what_num_test[i] = test_data[i][\"label\"]\n",
    "    input_data_test[i] = np.expand_dims(image, axis=-1) / 255.0\n",
    "\n",
    "input_data_test = input_data_test.reshape(-1, 28, 28, 1)\n",
    "\n"
   ]
  },
  {
   "cell_type": "code",
   "execution_count": 11,
   "metadata": {},
   "outputs": [
    {
     "name": "stdout",
     "output_type": "stream",
     "text": [
      "313/313 [==============================] - 1s 2ms/step - loss: 0.1120 - accuracy: 0.9665\n",
      "Testing Loss: 0.11204924434423447\n",
      "Testing Accuracy: 0.9664999842643738\n"
     ]
    }
   ],
   "source": [
    "# Evaluate the model on the testing data\n",
    "test_loss, test_accuracy = model.evaluate(input_data_test, what_num_test)\n",
    "print('Testing Loss:', test_loss)\n",
    "print('Testing Accuracy:', test_accuracy)"
   ]
  },
  {
   "cell_type": "code",
   "execution_count": 12,
   "metadata": {},
   "outputs": [],
   "source": [
    "from PIL import Image\n",
    "\n",
    "def display_image(array):\n",
    "    # Display the black and white image\n",
    "    plt.imshow(array*255, cmap=\"gray\")\n",
    "    plt.title(\"Black and White Image\")\n",
    "    plt.show()\n",
    "    "
   ]
  },
  {
   "cell_type": "code",
   "execution_count": 13,
   "metadata": {},
   "outputs": [
    {
     "name": "stdout",
     "output_type": "stream",
     "text": [
      "1/1 [==============================] - 0s 117ms/step\n",
      "Predicted Label: 3\n"
     ]
    }
   ],
   "source": [
    "image = Image.open('test_image.png')\n",
    "img_array = np.array(image)  \n",
    "personal_img = np.expand_dims(img_array, axis=0) / 255.0  \n",
    "\n",
    "\n",
    "prediction = model.predict(personal_img)\n",
    "predicted_label = np.argmax(prediction)\n",
    "print(\"Predicted Label:\", predicted_label)"
   ]
  },
  {
   "cell_type": "code",
   "execution_count": 14,
   "metadata": {},
   "outputs": [],
   "source": [
    "#tf.saved_model.save(model, \"nn_number_model\")"
   ]
  },
  {
   "cell_type": "code",
   "execution_count": 15,
   "metadata": {},
   "outputs": [],
   "source": [
    "# this is how i rotate the nummber on the image\n",
    "from scipy.ndimage import rotate\n",
    "\n",
    "def rotate_array(input_array, angle):\n",
    "    rotated_array = rotate(input_array, angle, reshape=False, mode='constant', cval=0.0, order=1)\n",
    "\n",
    "    return rotated_array\n"
   ]
  },
  {
   "cell_type": "code",
   "execution_count": 16,
   "metadata": {},
   "outputs": [],
   "source": [
    "from scipy.ndimage import zoom\n",
    "\n",
    "def modify_border(array, num_pixels):\n",
    "    array = np.array(array)\n",
    "    if num_pixels ==0:\n",
    "        return array\n",
    "    \n",
    "    if array.ndim == 2:\n",
    "        array = np.expand_dims(array, axis=-1)\n",
    "        \n",
    "    height, width, channels = array.shape\n",
    "    new_height = height + 2 * abs(num_pixels)\n",
    "    new_width = width + 2 * abs(num_pixels)\n",
    "\n",
    "    new_array = np.zeros((new_height, new_width, channels), dtype=array.dtype)\n",
    "\n",
    "    if num_pixels > 0:\n",
    "        new_array[num_pixels:num_pixels + height, num_pixels:num_pixels + width, :] = array\n",
    "    elif num_pixels < 0:\n",
    "        new_array = array[abs(num_pixels):-abs(num_pixels), abs(num_pixels):-abs(num_pixels), :]\n",
    "\n",
    "    return resize_image(new_array)\n",
    "\n",
    "\n",
    "\n",
    "from skimage.transform import resize\n",
    "\n",
    "def resize_image(image):\n",
    "    image_array = np.array(image)\n",
    "    scale_factor = 28 / image.shape[0]\n",
    "    new_height = int(image_array.shape[0] * scale_factor)\n",
    "    new_width = int(image_array.shape[1] * scale_factor)\n",
    "    resized_image = resize(image_array, (new_height, new_width), anti_aliasing=True)\n",
    "\n",
    "    return resized_image\n",
    "\n",
    "\n",
    "#                                          i like -2 (make bigger) to 12 for really small\n",
    "# # Add outer border (all zeros)\n",
    "# result_image_add = add_or_remove_outer_border(input_image, -2)\n",
    "# print(\"Image with added outer border:\")\n",
    "# print(display_image(result_image_add))\n",
    "\n",
    "# # Remove outer border (all zeros)\n",
    "# result_image_remove =  add_or_remove_outer_border(input_image, 12)\n",
    "# print(\"Image with removed outer border:\")\n",
    "# print(display_image(result_image_remove))\n"
   ]
  },
  {
   "cell_type": "code",
   "execution_count": 17,
   "metadata": {},
   "outputs": [],
   "source": [
    "def shift_image(image, x_offset, y_offset):\n",
    "    image_array = np.array(image)\n",
    "    height, width, channels = image_array.shape\n",
    "    shifted_image = np.zeros((height, width, channels), dtype=image_array.dtype)\n",
    "\n",
    "    x_start = max(0, x_offset)\n",
    "    x_end = min(width, width + x_offset)\n",
    "    y_start = max(0, y_offset)\n",
    "    y_end = min(height, height + y_offset)\n",
    "\n",
    "    shifted_image[y_start:y_end, x_start:x_end, :] = image_array[y_start - y_offset:y_end - y_offset, x_start - x_offset:x_end - x_offset, :]\n",
    "\n",
    "    return shifted_image\n",
    "\n",
    "# will try to do 4 in each direction\n",
    "\n",
    "# resized_image = shift_image(input_image, x_offset, y_offset)\n",
    "# print(\"Resized Image:\")\n",
    "# print(display_image(resized_image))\n"
   ]
  },
  {
   "cell_type": "code",
   "execution_count": 18,
   "metadata": {},
   "outputs": [],
   "source": [
    "def add_random_pixel_noise(image, num_pixels, new_value):\n",
    "    image_array = np.array(image)\n",
    "    height, width, channels = image_array.shape\n",
    "    flattened_image = image_array.flatten()\n",
    "\n",
    "    selected_indices = np.random.choice(len(flattened_image), size=num_pixels, replace=False)\n",
    "    flattened_image[selected_indices] = new_value\n",
    "    noisy_image = flattened_image.reshape(height, width, channels)\n",
    "\n",
    "    return noisy_image\n",
    "\n",
    "#noisy_image = add_random_pixel_noise(noisy_image, 5, .9)\n",
    "#print(\"Noisy Image:\")\n",
    "#print(display_image(noisy_image))\n"
   ]
  },
  {
   "cell_type": "code",
   "execution_count": 19,
   "metadata": {},
   "outputs": [],
   "source": [
    "import random as r\n",
    "\n",
    "def change_image(array):\n",
    "    angle = r.randint(-12, 12) #12 - -12\n",
    "    array = rotate_array(array, angle)   \n",
    "    num_pix = r.randint(-2, 12)\n",
    "    array = modify_border(array, num_pix)\n",
    "    x_offset,  y_offset = r.randint(-4,4), r.randint(-4,4)\n",
    "    array = shift_image(array, x_offset, y_offset)  # 4- -4 , 4-4 \n",
    "    num_pixs = r.randint(0, 20)\n",
    "    array = add_random_pixel_noise(array, num_pixs, .5) #  0-30 .5\n",
    "    return array\n",
    "\n"
   ]
  },
  {
   "cell_type": "code",
   "execution_count": 20,
   "metadata": {},
   "outputs": [],
   "source": [
    "#display_image(change_image(input_data[6]))"
   ]
  },
  {
   "cell_type": "code",
   "execution_count": 21,
   "metadata": {},
   "outputs": [],
   "source": [
    "modified_data = np.zeros((len(train_data), 28, 28, 1))\n",
    "modified_data_2 = np.zeros((len(train_data), 28, 28, 1))\n",
    "modified_data_3 = np.zeros((len(train_data), 28, 28, 1))           # it worked with one but why not three instead and less epocs\n",
    "\n",
    "for i in range(len(input_data)):\n",
    "    modified_data[i] = change_image(input_data[i])\n",
    "    modified_data_2[i] = change_image(input_data[i])\n",
    "    modified_data_3[i] = change_image(input_data[i])\n",
    "    \n"
   ]
  },
  {
   "cell_type": "code",
   "execution_count": 33,
   "metadata": {},
   "outputs": [
    {
     "data": {
      "image/png": "[encoded data removed]",
      "text/plain": [
       "<Figure size 640x480 with 1 Axes>"
      ]
     },
     "metadata": {},
     "output_type": "display_data"
    },
    {
     "name": "stdout",
     "output_type": "stream",
     "text": [
      "6\n"
     ]
    }
   ],
   "source": [
    "all_data = np.concatenate((modified_data, modified_data_2, modified_data_3), axis=0)\n",
    "all_nums = np.concatenate((what_num, what_num, what_num), axis=0)\n",
    "\n",
    "display_image(all_data[5])\n",
    "print(what_num[5632])"
   ]
  },
  {
   "cell_type": "code",
   "execution_count": 34,
   "metadata": {},
   "outputs": [],
   "source": [
    "model = tf.keras.models.Sequential()\n",
    "\n",
    "model.add(tf.keras.layers.Flatten(input_shape=(28, 28, 1)))  \n",
    "model.add(tf.keras.layers.Dense(units=256, activation='relu'))    # might what to play around with the second layer of inputs here. is more always safer?\n",
    "model.add(tf.keras.layers.Dense(units=10, activation='softmax'))\n",
    "model.compile(loss='sparse_categorical_crossentropy', optimizer='sgd', metrics=['accuracy'])\n"
   ]
  },
  {
   "cell_type": "code",
   "execution_count": 35,
   "metadata": {},
   "outputs": [
    {
     "name": "stdout",
     "output_type": "stream",
     "text": [
      "Epoch 1/100\n",
      "5625/5625 [==============================] - 17s 3ms/step - loss: 1.8126 - accuracy: 0.4051\n",
      "Epoch 2/100\n",
      "5625/5625 [==============================] - 16s 3ms/step - loss: 1.1850 - accuracy: 0.6541\n",
      "Epoch 3/100\n",
      "5625/5625 [==============================] - 16s 3ms/step - loss: 0.8923 - accuracy: 0.7469\n",
      "Epoch 4/100\n",
      "5625/5625 [==============================] - 16s 3ms/step - loss: 0.7330 - accuracy: 0.7950\n",
      "Epoch 5/100\n",
      "5625/5625 [==============================] - 16s 3ms/step - loss: 0.6346 - accuracy: 0.8227\n",
      "Epoch 6/100\n",
      "5625/5625 [==============================] - 16s 3ms/step - loss: 0.5677 - accuracy: 0.8430\n",
      "Epoch 7/100\n",
      "5625/5625 [==============================] - 16s 3ms/step - loss: 0.5186 - accuracy: 0.8573\n",
      "Epoch 8/100\n",
      "5625/5625 [==============================] - 16s 3ms/step - loss: 0.4806 - accuracy: 0.8674\n",
      "Epoch 9/100\n",
      "5625/5625 [==============================] - 16s 3ms/step - loss: 0.4501 - accuracy: 0.8766\n",
      "Epoch 10/100\n",
      "5625/5625 [==============================] - 16s 3ms/step - loss: 0.4242 - accuracy: 0.8842\n",
      "Epoch 11/100\n",
      "5625/5625 [==============================] - 16s 3ms/step - loss: 0.4021 - accuracy: 0.8907\n",
      "Epoch 12/100\n",
      "5625/5625 [==============================] - 17s 3ms/step - loss: 0.3833 - accuracy: 0.8959\n",
      "Epoch 13/100\n",
      "5625/5625 [==============================] - 16s 3ms/step - loss: 0.3662 - accuracy: 0.9005\n",
      "Epoch 14/100\n",
      "5625/5625 [==============================] - 16s 3ms/step - loss: 0.3512 - accuracy: 0.9046\n",
      "Epoch 15/100\n",
      "5625/5625 [==============================] - 16s 3ms/step - loss: 0.3381 - accuracy: 0.9085\n",
      "Epoch 16/100\n",
      "5625/5625 [==============================] - 16s 3ms/step - loss: 0.3259 - accuracy: 0.9114\n",
      "Epoch 17/100\n",
      "5625/5625 [==============================] - 16s 3ms/step - loss: 0.3147 - accuracy: 0.9149\n",
      "Epoch 18/100\n",
      "5625/5625 [==============================] - 16s 3ms/step - loss: 0.3044 - accuracy: 0.9177\n",
      "Epoch 19/100\n",
      "5625/5625 [==============================] - 18s 3ms/step - loss: 0.2948 - accuracy: 0.9203\n",
      "Epoch 20/100\n",
      "5625/5625 [==============================] - 19s 3ms/step - loss: 0.2860 - accuracy: 0.9225\n",
      "Epoch 21/100\n",
      "5625/5625 [==============================] - 17s 3ms/step - loss: 0.2777 - accuracy: 0.9256\n",
      "Epoch 22/100\n",
      "5625/5625 [==============================] - 17s 3ms/step - loss: 0.2698 - accuracy: 0.9273\n",
      "Epoch 23/100\n",
      "5625/5625 [==============================] - 16s 3ms/step - loss: 0.2627 - accuracy: 0.9294\n",
      "Epoch 24/100\n",
      "5625/5625 [==============================] - 16s 3ms/step - loss: 0.2556 - accuracy: 0.9316\n",
      "Epoch 25/100\n",
      "5625/5625 [==============================] - 17s 3ms/step - loss: 0.2490 - accuracy: 0.9330\n",
      "Epoch 26/100\n",
      "5625/5625 [==============================] - 17s 3ms/step - loss: 0.2430 - accuracy: 0.9348\n",
      "Epoch 27/100\n",
      "5625/5625 [==============================] - 17s 3ms/step - loss: 0.2368 - accuracy: 0.9369\n",
      "Epoch 28/100\n",
      "5625/5625 [==============================] - 17s 3ms/step - loss: 0.2313 - accuracy: 0.9383\n",
      "Epoch 29/100\n",
      "5625/5625 [==============================] - 16s 3ms/step - loss: 0.2260 - accuracy: 0.9395\n",
      "Epoch 30/100\n",
      "5625/5625 [==============================] - 17s 3ms/step - loss: 0.2205 - accuracy: 0.9410\n",
      "Epoch 31/100\n",
      "5625/5625 [==============================] - 17s 3ms/step - loss: 0.2159 - accuracy: 0.9423\n",
      "Epoch 32/100\n",
      "5625/5625 [==============================] - 17s 3ms/step - loss: 0.2111 - accuracy: 0.9442\n",
      "Epoch 33/100\n",
      "5625/5625 [==============================] - 17s 3ms/step - loss: 0.2065 - accuracy: 0.9455\n",
      "Epoch 34/100\n",
      "5625/5625 [==============================] - 17s 3ms/step - loss: 0.2021 - accuracy: 0.9466\n",
      "Epoch 35/100\n",
      "5625/5625 [==============================] - 18s 3ms/step - loss: 0.1981 - accuracy: 0.9475\n",
      "Epoch 36/100\n",
      "5625/5625 [==============================] - 20s 4ms/step - loss: 0.1939 - accuracy: 0.9491\n",
      "Epoch 37/100\n",
      "5625/5625 [==============================] - 17s 3ms/step - loss: 0.1898 - accuracy: 0.9499\n",
      "Epoch 38/100\n",
      "5625/5625 [==============================] - 16s 3ms/step - loss: 0.1861 - accuracy: 0.9511\n",
      "Epoch 39/100\n",
      "5625/5625 [==============================] - 16s 3ms/step - loss: 0.1824 - accuracy: 0.9519\n",
      "Epoch 40/100\n",
      "5625/5625 [==============================] - 16s 3ms/step - loss: 0.1788 - accuracy: 0.9528\n",
      "Epoch 41/100\n",
      "5625/5625 [==============================] - 16s 3ms/step - loss: 0.1754 - accuracy: 0.9542\n",
      "Epoch 42/100\n",
      "5625/5625 [==============================] - 16s 3ms/step - loss: 0.1722 - accuracy: 0.9551\n",
      "Epoch 43/100\n",
      "5625/5625 [==============================] - 16s 3ms/step - loss: 0.1689 - accuracy: 0.9564\n",
      "Epoch 44/100\n",
      "5625/5625 [==============================] - 16s 3ms/step - loss: 0.1655 - accuracy: 0.9573\n",
      "Epoch 45/100\n",
      "5625/5625 [==============================] - 17s 3ms/step - loss: 0.1627 - accuracy: 0.9579\n",
      "Epoch 46/100\n",
      "5625/5625 [==============================] - 17s 3ms/step - loss: 0.1598 - accuracy: 0.9585\n",
      "Epoch 47/100\n",
      "5625/5625 [==============================] - 17s 3ms/step - loss: 0.1570 - accuracy: 0.9591\n",
      "Epoch 48/100\n",
      "5625/5625 [==============================] - 18s 3ms/step - loss: 0.1540 - accuracy: 0.9605\n",
      "Epoch 49/100\n",
      "5625/5625 [==============================] - 21s 4ms/step - loss: 0.1510 - accuracy: 0.9614\n",
      "Epoch 50/100\n",
      "5625/5625 [==============================] - 25s 4ms/step - loss: 0.1485 - accuracy: 0.9620\n",
      "Epoch 51/100\n",
      "5625/5625 [==============================] - 20s 4ms/step - loss: 0.1460 - accuracy: 0.9626\n",
      "Epoch 52/100\n",
      "5625/5625 [==============================] - 20s 4ms/step - loss: 0.1433 - accuracy: 0.9634\n",
      "Epoch 53/100\n",
      "5625/5625 [==============================] - 20s 4ms/step - loss: 0.1410 - accuracy: 0.9643\n",
      "Epoch 54/100\n",
      "5625/5625 [==============================] - 20s 4ms/step - loss: 0.1387 - accuracy: 0.9650\n",
      "Epoch 55/100\n",
      "5625/5625 [==============================] - 20s 4ms/step - loss: 0.1361 - accuracy: 0.9658\n",
      "Epoch 56/100\n",
      "5625/5625 [==============================] - 20s 4ms/step - loss: 0.1339 - accuracy: 0.9664\n",
      "Epoch 57/100\n",
      "5625/5625 [==============================] - 20s 4ms/step - loss: 0.1315 - accuracy: 0.9674\n",
      "Epoch 58/100\n",
      "5625/5625 [==============================] - 20s 4ms/step - loss: 0.1295 - accuracy: 0.9679\n",
      "Epoch 59/100\n",
      "5625/5625 [==============================] - 20s 4ms/step - loss: 0.1274 - accuracy: 0.9685\n",
      "Epoch 60/100\n",
      "5625/5625 [==============================] - 20s 4ms/step - loss: 0.1253 - accuracy: 0.9692\n",
      "Epoch 61/100\n",
      "5625/5625 [==============================] - 20s 4ms/step - loss: 0.1230 - accuracy: 0.9699\n",
      "Epoch 62/100\n",
      "5625/5625 [==============================] - 23s 4ms/step - loss: 0.1210 - accuracy: 0.9704\n",
      "Epoch 63/100\n",
      "5625/5625 [==============================] - 26s 5ms/step - loss: 0.1190 - accuracy: 0.9713\n",
      "Epoch 64/100\n",
      "5625/5625 [==============================] - 21s 4ms/step - loss: 0.1171 - accuracy: 0.9717\n",
      "Epoch 65/100\n",
      "5625/5625 [==============================] - 24s 4ms/step - loss: 0.1151 - accuracy: 0.9725\n",
      "Epoch 66/100\n",
      "5625/5625 [==============================] - 21s 4ms/step - loss: 0.1133 - accuracy: 0.9729\n",
      "Epoch 67/100\n",
      "5625/5625 [==============================] - 20s 4ms/step - loss: 0.1117 - accuracy: 0.9736\n",
      "Epoch 68/100\n",
      "5625/5625 [==============================] - 20s 4ms/step - loss: 0.1098 - accuracy: 0.9742\n",
      "Epoch 69/100\n",
      "5625/5625 [==============================] - 20s 4ms/step - loss: 0.1081 - accuracy: 0.9748\n",
      "Epoch 70/100\n",
      "5625/5625 [==============================] - 20s 3ms/step - loss: 0.1062 - accuracy: 0.9753\n",
      "Epoch 71/100\n",
      "5625/5625 [==============================] - 22s 4ms/step - loss: 0.1047 - accuracy: 0.9757\n",
      "Epoch 72/100\n",
      "5625/5625 [==============================] - 23s 4ms/step - loss: 0.1031 - accuracy: 0.9760\n",
      "Epoch 73/100\n",
      "5625/5625 [==============================] - 22s 4ms/step - loss: 0.1012 - accuracy: 0.9770\n",
      "Epoch 74/100\n",
      "5625/5625 [==============================] - 22s 4ms/step - loss: 0.0999 - accuracy: 0.9773\n",
      "Epoch 75/100\n",
      "5625/5625 [==============================] - 20s 3ms/step - loss: 0.0983 - accuracy: 0.9778\n",
      "Epoch 76/100\n",
      "5625/5625 [==============================] - 19s 3ms/step - loss: 0.0968 - accuracy: 0.9781\n",
      "Epoch 77/100\n",
      "5625/5625 [==============================] - 19s 3ms/step - loss: 0.0953 - accuracy: 0.9788\n",
      "Epoch 78/100\n",
      "5625/5625 [==============================] - 20s 4ms/step - loss: 0.0938 - accuracy: 0.9793\n",
      "Epoch 79/100\n",
      "5625/5625 [==============================] - 19s 3ms/step - loss: 0.0923 - accuracy: 0.9797\n",
      "Epoch 80/100\n",
      "5625/5625 [==============================] - 20s 3ms/step - loss: 0.0909 - accuracy: 0.9803\n",
      "Epoch 81/100\n",
      "5625/5625 [==============================] - 18s 3ms/step - loss: 0.0896 - accuracy: 0.9804\n",
      "Epoch 82/100\n",
      "5625/5625 [==============================] - 19s 3ms/step - loss: 0.0884 - accuracy: 0.9811\n",
      "Epoch 83/100\n",
      "5625/5625 [==============================] - 18s 3ms/step - loss: 0.0870 - accuracy: 0.9812\n",
      "Epoch 84/100\n",
      "5625/5625 [==============================] - 19s 3ms/step - loss: 0.0857 - accuracy: 0.9819\n",
      "Epoch 85/100\n",
      "5625/5625 [==============================] - 19s 3ms/step - loss: 0.0843 - accuracy: 0.9825\n",
      "Epoch 86/100\n",
      "5625/5625 [==============================] - 21s 4ms/step - loss: 0.0832 - accuracy: 0.9824\n",
      "Epoch 87/100\n",
      "5625/5625 [==============================] - 21s 4ms/step - loss: 0.0818 - accuracy: 0.9831\n",
      "Epoch 88/100\n",
      "5625/5625 [==============================] - 19s 3ms/step - loss: 0.0805 - accuracy: 0.9834\n",
      "Epoch 89/100\n",
      "5625/5625 [==============================] - 17s 3ms/step - loss: 0.0796 - accuracy: 0.9838\n",
      "Epoch 90/100\n",
      "5625/5625 [==============================] - 17s 3ms/step - loss: 0.0783 - accuracy: 0.9839\n",
      "Epoch 91/100\n",
      "5625/5625 [==============================] - 17s 3ms/step - loss: 0.0772 - accuracy: 0.9845\n",
      "Epoch 92/100\n",
      "5625/5625 [==============================] - 17s 3ms/step - loss: 0.0760 - accuracy: 0.9845\n",
      "Epoch 93/100\n",
      "5625/5625 [==============================] - 17s 3ms/step - loss: 0.0748 - accuracy: 0.9853\n",
      "Epoch 94/100\n",
      "5625/5625 [==============================] - 17s 3ms/step - loss: 0.0737 - accuracy: 0.9855\n",
      "Epoch 95/100\n",
      "5625/5625 [==============================] - 17s 3ms/step - loss: 0.0727 - accuracy: 0.9861\n",
      "Epoch 96/100\n",
      "5625/5625 [==============================] - 17s 3ms/step - loss: 0.0717 - accuracy: 0.9863\n",
      "Epoch 97/100\n",
      "5625/5625 [==============================] - 17s 3ms/step - loss: 0.0705 - accuracy: 0.9866\n",
      "Epoch 98/100\n",
      "5625/5625 [==============================] - 17s 3ms/step - loss: 0.0696 - accuracy: 0.9869\n",
      "Epoch 99/100\n",
      "5625/5625 [==============================] - 17s 3ms/step - loss: 0.0686 - accuracy: 0.9869\n",
      "Epoch 100/100\n",
      "5625/5625 [==============================] - 17s 3ms/step - loss: 0.0676 - accuracy: 0.9875\n"
     ]
    },
    {
     "data": {
      "text/plain": [
       "<keras.src.callbacks.History at 0x199cb1c14d0>"
      ]
     },
     "execution_count": 35,
     "metadata": {},
     "output_type": "execute_result"
    }
   ],
   "source": [
    "model.fit(all_data, all_nums, epochs=100, batch_size=32) # 32 more or less. sounds jsut like a defult"
   ]
  },
  {
   "cell_type": "code",
   "execution_count": 36,
   "metadata": {},
   "outputs": [
    {
     "name": "stdout",
     "output_type": "stream",
     "text": [
      "INFO:tensorflow:Assets written to: nn_mach_3\\assets\n"
     ]
    },
    {
     "name": "stderr",
     "output_type": "stream",
     "text": [
      "INFO:tensorflow:Assets written to: nn_mach_3\\assets\n"
     ]
    }
   ],
   "source": [
    "tf.saved_model.save(model, \"nn_mach_3\")"
   ]
  }
 ],
 "metadata": {
  "kernelspec": {
   "display_name": "Python 3",
   "language": "python",
   "name": "python3"
  },
  "language_info": {
   "codemirror_mode": {
    "name": "ipython",
    "version": 3
   },
   "file_extension": ".py",
   "mimetype": "text/x-python",
   "name": "python",
   "nbconvert_exporter": "python",
   "pygments_lexer": "ipython3",
   "version": "3.11.4"
  },
  "orig_nbformat": 4
 },
 "nbformat": 4,
 "nbformat_minor": 2
}
